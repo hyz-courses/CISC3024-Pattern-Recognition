{
 "cells": [
  {
   "cell_type": "code",
   "execution_count": 1,
   "id": "a3f3b2cd-fffa-4317-8bdb-88f451e009b5",
   "metadata": {},
   "outputs": [],
   "source": [
    "import torch"
   ]
  },
  {
   "cell_type": "markdown",
   "id": "18e3bb99-e183-47c8-a764-ef168ee86110",
   "metadata": {},
   "source": [
    "# Put Tensors/Models on GPU"
   ]
  },
  {
   "cell_type": "markdown",
   "id": "336c2f42-9c87-4261-ba08-07287d1db309",
   "metadata": {},
   "source": [
    "## On CPU\n",
    "Put a matrix on cpu."
   ]
  },
  {
   "cell_type": "code",
   "execution_count": 3,
   "id": "9a011c6c-ee23-4193-9b7c-4b9e653c9627",
   "metadata": {},
   "outputs": [
    {
     "name": "stdout",
     "output_type": "stream",
     "text": [
      "Matrix:\n",
      "tensor([[0., 0., 0.],\n",
      "        [0., 0., 0.],\n",
      "        [0., 0., 0.]])\n",
      "Device:\n",
      "cpu\n"
     ]
    }
   ],
   "source": [
    "mat_cpu = torch.zeros([3,3])\n",
    "print(f\"Matrix:\\n{mat_cpu}\\nDevice:\\n{mat_cpu.device}\")"
   ]
  },
  {
   "cell_type": "markdown",
   "id": "15e2d84c-6a63-4479-85da-68cf93b1a0e7",
   "metadata": {},
   "source": [
    "## Directly on GPU"
   ]
  },
  {
   "cell_type": "code",
   "execution_count": 5,
   "id": "1f211894-c3d9-4bdd-94ec-f0ec86800d9a",
   "metadata": {},
   "outputs": [
    {
     "name": "stdout",
     "output_type": "stream",
     "text": [
      "Matrix:\n",
      "tensor([[0., 0., 0.],\n",
      "        [0., 0., 0.],\n",
      "        [0., 0., 0.]], device='cuda:0')\n",
      "Device:\n",
      "cuda:0\n"
     ]
    }
   ],
   "source": [
    "mat_gpu = torch.zeros([3,3], device='cuda')\n",
    "print(f\"Matrix:\\n{mat_gpu}\\nDevice:\\n{mat_gpu.device}\")"
   ]
  },
  {
   "cell_type": "markdown",
   "id": "cbbf5dc2-ae61-4d83-ad0c-62a99886777f",
   "metadata": {},
   "source": [
    "## Move from CPU to GPU"
   ]
  },
  {
   "cell_type": "code",
   "execution_count": 9,
   "id": "ff0be21d-963b-4917-a9e3-6703559ed12a",
   "metadata": {},
   "outputs": [
    {
     "name": "stdout",
     "output_type": "stream",
     "text": [
      "Matrix:\n",
      "tensor([[0., 0., 0.],\n",
      "        [0., 0., 0.],\n",
      "        [0., 0., 0.]], device='cuda:0')\n",
      "Device:\n",
      "cuda:0\n"
     ]
    }
   ],
   "source": [
    "mat_cpu_to_gpu = mat_cpu.to('cuda')\n",
    "print(f\"Matrix:\\n{mat_cpu_to_gpu}\\nDevice:\\n{mat_cpu_to_gpu.device}\")"
   ]
  },
  {
   "cell_type": "markdown",
   "id": "ce58e420-c16d-4e1d-a161-d1c4216934fb",
   "metadata": {},
   "source": [
    "# Move a model to GPU"
   ]
  },
  {
   "cell_type": "code",
   "execution_count": 11,
   "id": "65d85369-b3e5-4507-b4a7-c1064c55a9c3",
   "metadata": {},
   "outputs": [],
   "source": [
    "import torch\n",
    "class TinyModel(torch.nn.Module):\n",
    "    def __init__(self):\n",
    "        super(TinyModel, self).__init__()\n",
    "        self.linear1 = torch.nn.Linear(100,200)\n",
    "        self.activation = torch.nn.ReLU()\n",
    "        self.linear2 = torch.nn.Linear(200,10)\n",
    "        self.softmax = torch.nn.Softmax()\n",
    "\n",
    "    def forward(self, x):\n",
    "        x = self.linear1(x)\n",
    "        x = self.activation(x)\n",
    "        x = self.linear2(x)\n",
    "        x = self.softmax(x)\n",
    "        return x\n",
    "\n",
    "tinymodel = TinyModel().to('cuda')"
   ]
  },
  {
   "cell_type": "markdown",
   "id": "fa91a1c5-04f4-4eb2-a551-bd49a145750b",
   "metadata": {},
   "source": [
    "# Move GPU tensor back to numpy"
   ]
  },
  {
   "cell_type": "code",
   "execution_count": 15,
   "id": "e78752c2-7dd9-4b47-adb8-1e680a3512bc",
   "metadata": {},
   "outputs": [
    {
     "name": "stdout",
     "output_type": "stream",
     "text": [
      "GPU:\n",
      "tensor([[0., 0., 0.],\n",
      "        [0., 0., 0.],\n",
      "        [0., 0., 0.]], device='cuda:0')\n",
      "Device:cuda:0\n",
      "\n",
      "CPU:\n",
      "[[0. 0. 0.]\n",
      " [0. 0. 0.]\n",
      " [0. 0. 0.]]\n"
     ]
    }
   ],
   "source": [
    "tensor_gpu = torch.zeros([3,3], device='cuda')\n",
    "back_to_cpu = tensor_gpu.detach().cpu().numpy()\n",
    "print(f\"GPU:\\n{tensor_gpu}\\nDevice:{tensor_gpu.device}\\n\\nCPU:\\n{back_to_cpu}\")"
   ]
  }
 ],
 "metadata": {
  "kernelspec": {
   "display_name": "Python 3 (ipykernel)",
   "language": "python",
   "name": "python3"
  },
  "language_info": {
   "codemirror_mode": {
    "name": "ipython",
    "version": 3
   },
   "file_extension": ".py",
   "mimetype": "text/x-python",
   "name": "python",
   "nbconvert_exporter": "python",
   "pygments_lexer": "ipython3",
   "version": "3.8.19"
  }
 },
 "nbformat": 4,
 "nbformat_minor": 5
}
