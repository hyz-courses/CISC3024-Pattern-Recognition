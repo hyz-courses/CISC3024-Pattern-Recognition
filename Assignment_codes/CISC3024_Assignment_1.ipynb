{
 "cells": [
  {
   "cell_type": "markdown",
   "id": "6696cc09-2139-4e6d-9feb-5c7c59fa1514",
   "metadata": {},
   "source": [
    "# CISC3024 Assignment 1\n",
    "## Experiments"
   ]
  },
  {
   "cell_type": "code",
   "execution_count": 12,
   "id": "cf4723a6-3522-450c-ae00-8de46537b841",
   "metadata": {},
   "outputs": [],
   "source": [
    "import torch\n",
    "import numpy as np"
   ]
  },
  {
   "cell_type": "markdown",
   "id": "65de697a-9a8a-4d57-a734-707fc2910674",
   "metadata": {},
   "source": [
    "Calculate the two error rates respectively for the two classes $\\omega_1$ and $\\omega_2$, given by the means and a common covariance matrix. The decision boundary is pre-computed correctly and given as a parameter."
   ]
  },
  {
   "cell_type": "code",
   "execution_count": 25,
   "id": "dc4a49f7-a3cc-4e1d-b526-c69845049f95",
   "metadata": {},
   "outputs": [],
   "source": [
    "def calc_error_rate(data_num, means, cov, dec_bound):\n",
    "    mean_1, mean_2 = means\n",
    "    \n",
    "    X_test_1 = np.random.multivariate_normal(mean_1, cov, data_num)\n",
    "    X_test_2 = np.random.multivariate_normal(mean_2, cov, data_num)\n",
    "    \n",
    "    X1_X1 = 0\n",
    "    X1_X2 = 0\n",
    "    X2_X1 = 0\n",
    "    X2_X2 = 0\n",
    "    \n",
    "    for xt_1 in X_test_1:\n",
    "        x1, x2 = xt_1\n",
    "        if x1 + x2 > dec_bound:\n",
    "            X1_X2 += 1\n",
    "        elif x1 + x2 < dec_bound:\n",
    "            X1_X1 += 1\n",
    "    \n",
    "    for xt_2 in X_test_2:\n",
    "        x1, x2 = xt_2\n",
    "        if x1 + x2 > dec_bound:\n",
    "            X2_X2 += 1\n",
    "        elif x1 + x2 < dec_bound:\n",
    "            X2_X1 += 1\n",
    "    \n",
    "    error_rate_1 = X1_X2 / (X1_X1 + X1_X2)\n",
    "    error_rate_2 = X2_X1 / (X2_X1 + X2_X2)\n",
    "    \n",
    "    return error_rate_1, error_rate_2"
   ]
  },
  {
   "cell_type": "markdown",
   "id": "2d7f03e5-9512-45a7-b6f3-64c69ce49bb6",
   "metadata": {},
   "source": [
    "Perform numerous calculations and seek an average among them to ensure convergency."
   ]
  },
  {
   "cell_type": "code",
   "execution_count": 26,
   "id": "b93fd2d9-69c7-4eff-9996-f8b2d4b6d8d9",
   "metadata": {},
   "outputs": [],
   "source": [
    "def calc_error_rate_accurate(data_num, means, cov, num_iter, dec_bound):\n",
    "    error_rates_1 = []\n",
    "    error_rates_2 = []\n",
    "\n",
    "    for i in range(0, num_iter):\n",
    "        error_rate_1, error_rate_2 = calc_error_rate(data_num, [mean_1, mean_2], cov, dec_bound)\n",
    "        error_rates_1.append(error_rate_1)\n",
    "        error_rates_2.append(error_rate_2)\n",
    "    \n",
    "    error_rate_1 = np.mean(error_rates_1)\n",
    "    error_rate_2 = np.mean(error_rates_2)\n",
    "\n",
    "    print(f\"Error rate for class 1:{error_rate_1:.5f}\\nError rate for class 2:{error_rate_2:.5f}\")"
   ]
  },
  {
   "cell_type": "markdown",
   "id": "63cb82cd-6d7a-433f-9fff-c3ea96f31042",
   "metadata": {},
   "source": [
    "Perform computation for two cases:\n",
    "- Case 1:$\\mu_2$=$\\begin{bmatrix}1.5 \\\\ 1.5\\end{bmatrix}$\n",
    "- Case 1:$\\mu_2$=$\\begin{bmatrix}3.0 \\\\ 3.0\\end{bmatrix}$"
   ]
  },
  {
   "cell_type": "code",
   "execution_count": 27,
   "id": "fb9eb141-93d3-4714-8f52-6b041b90f4f8",
   "metadata": {},
   "outputs": [
    {
     "name": "stdout",
     "output_type": "stream",
     "text": [
      "Error rate for class 1:0.36200\n",
      "Error rate for class 2:0.36220\n"
     ]
    }
   ],
   "source": [
    "data_num = 100\n",
    "mean_1 = [1, 1]\n",
    "mean_2 = [1.5, 1.5]\n",
    "cov = [[1, 0], [0, 1]]\n",
    "\n",
    "calc_error_rate_accurate(data_num, [mean_1, mean_2], cov, 100000, 2.5)"
   ]
  },
  {
   "cell_type": "code",
   "execution_count": 28,
   "id": "16b287a6-48bb-4dc8-8ae4-c58f168ac632",
   "metadata": {},
   "outputs": [
    {
     "name": "stdout",
     "output_type": "stream",
     "text": [
      "Error rate for class 1:0.07864\n",
      "Error rate for class 2:0.07866\n"
     ]
    }
   ],
   "source": [
    "data_num = 100\n",
    "mean_1 = [1, 1]\n",
    "mean_2 = [3, 3]\n",
    "cov = [[1, 0], [0, 1]]\n",
    "\n",
    "calc_error_rate_accurate(data_num, [mean_1, mean_2], cov, 100000, 4)"
   ]
  }
 ],
 "metadata": {
  "kernelspec": {
   "display_name": "Python 3 (ipykernel)",
   "language": "python",
   "name": "python3"
  },
  "language_info": {
   "codemirror_mode": {
    "name": "ipython",
    "version": 3
   },
   "file_extension": ".py",
   "mimetype": "text/x-python",
   "name": "python",
   "nbconvert_exporter": "python",
   "pygments_lexer": "ipython3",
   "version": "3.8.19"
  }
 },
 "nbformat": 4,
 "nbformat_minor": 5
}
